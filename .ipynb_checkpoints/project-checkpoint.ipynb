{
 "metadata": {
  "name": "",
  "signature": "sha256:2fb8a5d317e50830e5fb244c05fc8bb79676f02420811d12ba39b1dd6c0f06b5"
 },
 "nbformat": 3,
 "nbformat_minor": 0,
 "worksheets": [
  {
   "cells": [
    {
     "cell_type": "code",
     "collapsed": false,
     "input": [],
     "language": "python",
     "metadata": {},
     "outputs": []
    }
   ],
   "metadata": {}
  }
 ]
}